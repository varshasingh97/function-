{
 "cells": [
  {
   "cell_type": "code",
   "execution_count": 2,
   "id": "001ac9e5-b198-4fcc-8282-33ffa8a5885d",
   "metadata": {},
   "outputs": [],
   "source": [
    "#Q1. How do you comment code in Python? What are the different types of comments?"
   ]
  },
  {
   "cell_type": "code",
   "execution_count": 4,
   "id": "733df19c-6ec0-4980-a6d1-78e6608bc5fd",
   "metadata": {},
   "outputs": [],
   "source": [
    "#ans1. we can comment code by using # symbol for single line comment.\n",
    "#there can be 2 types of comment single line and multipule line comment .\n",
    "#for multiple line comment we can use '' or \"\" for three time at the starting and at the end .  "
   ]
  },
  {
   "cell_type": "code",
   "execution_count": 5,
   "id": "7e571c3c-81ce-4077-82b2-8f7089327773",
   "metadata": {},
   "outputs": [],
   "source": [
    "#Q2. What are variables in Python? How do you declare and assign values to variables?"
   ]
  },
  {
   "cell_type": "code",
   "execution_count": 6,
   "id": "f81e8b82-3ca4-4b67-907a-7e5aa4ab06b1",
   "metadata": {},
   "outputs": [],
   "source": [
    "# ans 2. symbolic name used to assign value of an object is variable .\n",
    "# values are assigned to the variables by assignment operator '=' ."
   ]
  },
  {
   "cell_type": "code",
   "execution_count": 7,
   "id": "edda3bb7-24fc-4d06-b9eb-d5495c858c49",
   "metadata": {},
   "outputs": [],
   "source": [
    "#Q3. How do you convert one data type to another in Python?\n",
    "\n",
    "# ans.  by typecasting "
   ]
  },
  {
   "cell_type": "code",
   "execution_count": 8,
   "id": "9520ac23-32d1-42af-be0e-28d07070c3b1",
   "metadata": {},
   "outputs": [],
   "source": [
    "#Q4. How do you write and execute a Python script from the command line?"
   ]
  },
  {
   "cell_type": "code",
   "execution_count": 9,
   "id": "b7791014-647f-4c16-a931-72aad287067b",
   "metadata": {},
   "outputs": [],
   "source": [
    "#Q5. Given a list my_list = [1, 2, 3, 4, 5], write the code to slice the list and obtain the sub-list [2, 3].\n",
    "\n",
    "my_list = [1,2,3,4,5]"
   ]
  },
  {
   "cell_type": "code",
   "execution_count": 11,
   "id": "cc4799f8-3f1e-495c-9368-25142c83dcf0",
   "metadata": {},
   "outputs": [
    {
     "name": "stdout",
     "output_type": "stream",
     "text": [
      "[2, 3]\n"
     ]
    }
   ],
   "source": [
    "print(my_list[1:3])"
   ]
  },
  {
   "cell_type": "code",
   "execution_count": 12,
   "id": "13cec960-d9a3-4ec0-8ad4-65db3badf300",
   "metadata": {},
   "outputs": [],
   "source": [
    "#Q6. What is a complex number in mathematics, and how is it represented in Python?\n",
    "\n",
    "# ans. its a combination of a real number and imaginary number with i as imaginary unit.\n",
    "#      in python complex number is presented as ' y = a + bj' where j is imaginery number."
   ]
  },
  {
   "cell_type": "code",
   "execution_count": 13,
   "id": "37f9c6c1-e0c8-4db9-a91a-44a7c5548d8a",
   "metadata": {},
   "outputs": [],
   "source": [
    "#Q7. What is the correct way to declare a variable named age and assign the value 25 to it?\n",
    "# ans. \n",
    "age = 25"
   ]
  },
  {
   "cell_type": "code",
   "execution_count": 14,
   "id": "e6952ea7-04d1-4a43-99a1-9cb250cc6864",
   "metadata": {},
   "outputs": [
    {
     "data": {
      "text/plain": [
       "float"
      ]
     },
     "execution_count": 14,
     "metadata": {},
     "output_type": "execute_result"
    }
   ],
   "source": [
    "#Q8. Declare a variable named price and assign the value 9.99 to it. What data type does this variable belongs to?\n",
    "\n",
    "price = 9.99\n",
    "type(price)"
   ]
  },
  {
   "cell_type": "code",
   "execution_count": 15,
   "id": "fb12a31c-c4ba-45c4-8f4f-680b8a3a7319",
   "metadata": {},
   "outputs": [
    {
     "name": "stdout",
     "output_type": "stream",
     "text": [
      " varsha singh\n"
     ]
    }
   ],
   "source": [
    "#Q9. Create a variable named name and assign your full name to it as a string. How would you print the value of this variable?\n",
    "# ans.\n",
    "name = \" varsha singh\"\n",
    "print (name)"
   ]
  },
  {
   "cell_type": "code",
   "execution_count": 16,
   "id": "5c7fddf3-a5bb-4ff9-a2d3-b5ea5080e9d8",
   "metadata": {},
   "outputs": [
    {
     "data": {
      "text/plain": [
       "'World'"
      ]
     },
     "execution_count": 16,
     "metadata": {},
     "output_type": "execute_result"
    }
   ],
   "source": [
    "#Q10. Given the string \"Hello, World!\", extract the substring \"World\".\n",
    "\n",
    "s = \"Hello World\"\n",
    "s[6:]"
   ]
  },
  {
   "cell_type": "code",
   "execution_count": null,
   "id": "d9524820-b0d4-4538-bd38-1a6cc151f6e5",
   "metadata": {},
   "outputs": [],
   "source": [
    "'''Q11. Create a variable named \"is_student\" and assign it a boolean value indicating whether you are\n",
    "currently a student or not.'''\n"
   ]
  }
 ],
 "metadata": {
  "kernelspec": {
   "display_name": "Python 3 (ipykernel)",
   "language": "python",
   "name": "python3"
  },
  "language_info": {
   "codemirror_mode": {
    "name": "ipython",
    "version": 3
   },
   "file_extension": ".py",
   "mimetype": "text/x-python",
   "name": "python",
   "nbconvert_exporter": "python",
   "pygments_lexer": "ipython3",
   "version": "3.10.8"
  }
 },
 "nbformat": 4,
 "nbformat_minor": 5
}
